{
 "cells": [
  {
   "cell_type": "markdown",
   "metadata": {},
   "source": [
    "# perceptron"
   ]
  },
  {
   "cell_type": "code",
   "execution_count": null,
   "metadata": {},
   "outputs": [],
   "source": [
    "import numpy as np\n",
    "\n",
    "def AND(x1, x2):\n",
    "    x = np.array([x1, x2])\n",
    "    w = np.array([0.5, 0.5])\n",
    "    b = -0.7\n",
    "    tmp = np.sum(w*x) + b\n",
    "    if tmp <= 0:\n",
    "        return 0\n",
    "    else:\n",
    "        return 1\n",
    "\n",
    "\n",
    "def NAND(x1, x2):\n",
    "    x = np.array([x1, x2])\n",
    "    w = np.array([-0.5, -0.5])\n",
    "    b = 0.7\n",
    "    tmp = np.sum(w*x) + b\n",
    "    if tmp <= 0:\n",
    "        return 0\n",
    "    else:\n",
    "        return 1\n",
    "\n",
    "\n",
    "def OR(x1, x2):\n",
    "    x = np.array([x1, x2])\n",
    "    w = np.array([0.5, 0.5])\n",
    "    b = -0.2\n",
    "    tmp = np.sum(w*x) + b\n",
    "    if tmp <= 0:\n",
    "        return 0\n",
    "    else:\n",
    "        return 1\n",
    "\n",
    "\n",
    "def XOR(x1, x2):\n",
    "    s1 = NAND(x1, x2)\n",
    "    s2 = OR(x1, x2)\n",
    "    return AND(s1, s2)"
   ]
  },
  {
   "cell_type": "markdown",
   "metadata": {},
   "source": [
    "# activate function"
   ]
  },
  {
   "cell_type": "code",
   "execution_count": 1,
   "metadata": {},
   "outputs": [],
   "source": [
    "import numpy as np\n",
    "\n",
    "def step_function(x):\n",
    "    y = x > 0\n",
    "    return y.astype(np.int)\n",
    "\n",
    "\n",
    "def sigmoid(x):\n",
    "    return 1 / (1 + np.exp(-x))\n",
    "\n",
    "\n",
    "def relu(x):\n",
    "    return np.maximum(0, x)\n",
    "\n",
    "def identity_function(x):\n",
    "    return x"
   ]
  },
  {
   "cell_type": "markdown",
   "metadata": {},
   "source": [
    "# basic forward network"
   ]
  },
  {
   "cell_type": "code",
   "execution_count": null,
   "metadata": {},
   "outputs": [],
   "source": [
    "import activate_func as af\n",
    "import numpy as np\n",
    "\n",
    "def init_network():\n",
    "    network = {}\n",
    "    network['W1'] = np.array([[0.1, 0.3, 0.5], [0.2, 0.4, 0.6]])\n",
    "    network['b1'] = np.array([0.1, 0.2, 0.3])\n",
    "    network['W2'] = np.array([[0.1, 0.4], [0.2, 0.5], [0.3, 0.6]])\n",
    "    network['b2'] = np.array([0.1, 0.2])\n",
    "    network['W3'] = np.array([[0.1, 0.3], [0.2, 0.4]])\n",
    "    network['b3'] = np.array([0.1, 0.2])\n",
    "    \n",
    "    return network\n",
    "\n",
    "\n",
    "def forward(network, x):\n",
    "    W1, W2, W3 = network['W1'], network['W2'], network['W3']\n",
    "    b1, b2, b3 = network['b1'], network['b2'], network['b3']\n",
    "    \n",
    "    a1 = np.dot(x, W1) + b1\n",
    "    z1 = af.sigmoid(a1)\n",
    "    a2 = np.dot(z1, W2) + b2\n",
    "    z2 = af.sigmoid(a2)\n",
    "    a3 = np.dot(z2, W3) + b3\n",
    "    y = af.identity_function(a3)\n",
    "    \n",
    "    return y\n",
    "\n",
    "\n",
    "network = init_network()\n",
    "x = np.array([1.0, 0.5])\n",
    "y = forward(network, x)\n",
    "print(y)"
   ]
  },
  {
   "cell_type": "markdown",
   "metadata": {},
   "source": [
    "# softmax function"
   ]
  },
  {
   "cell_type": "code",
   "execution_count": 6,
   "metadata": {},
   "outputs": [
    {
     "name": "stdout",
     "output_type": "stream",
     "text": [
      "[0.62245933 0.37754067]\n",
      "1.0\n"
     ]
    }
   ],
   "source": [
    "import numpy as np\n",
    "\n",
    "def softmax(a):\n",
    "    c = np.max(a)          # overflow를 막기위한 c\n",
    "    exp_a = np.exp(x-c)    # overflow 대책\n",
    "    sum_exp_a = np.sum(exp_a)\n",
    "    y = exp_a / sum_exp_a\n",
    "    \n",
    "    return y\n",
    "\n",
    "a = np.array([0.3, 2.9, 4.0])\n",
    "y = softmax(a)\n",
    "print(y)            # softmax의 출력은 0에서 1사이\n",
    "print(np.sum(y))    # sorfmax의 출력 총합은 1"
   ]
  },
  {
   "cell_type": "markdown",
   "metadata": {},
   "source": [
    "# mean square error, MSE\n",
    "### 평균 제곱 오차"
   ]
  },
  {
   "cell_type": "code",
   "execution_count": 11,
   "metadata": {},
   "outputs": [
    {
     "name": "stdout",
     "output_type": "stream",
     "text": [
      "0.09750000000000003\n",
      "0.5975\n"
     ]
    }
   ],
   "source": [
    "import numpy as np\n",
    "\n",
    "def mean_square_error(y, t):\n",
    "    return 0.5 * np.sum((y - t)**2)\n",
    "\n",
    "\n",
    "t = [0, 0, 1, 0, 0, 0, 0, 0, 0, 0]    # 정답은 '2'\n",
    "\n",
    "# 예1 : '2'일 확률이 가장 높다고 추정함 (0.6)\n",
    "y = [0.1, 0.05, 0.6, 0.0, 0.05, 0.1, 0.0, 0.1, 0.0, 0.0]\n",
    "print(mean_square_error(np.array(y), np.array(t)))\n",
    "\n",
    "# 예1 : '7'일 확률이 가장 높다고 추정함 (0.6)\n",
    "y = [0.1, 0.05, 0.1, 0.0, 0.05, 0.1, 0.0, 0.6, 0.0, 0.0]\n",
    "print(mean_square_error(np.array(y), np.array(t)))\n"
   ]
  },
  {
   "cell_type": "markdown",
   "metadata": {},
   "source": [
    "# cross entropy error\n",
    "### 교차 엔트로피 오차"
   ]
  },
  {
   "cell_type": "code",
   "execution_count": 13,
   "metadata": {},
   "outputs": [
    {
     "name": "stdout",
     "output_type": "stream",
     "text": [
      "0.510825457099338\n",
      "2.302584092994546\n"
     ]
    }
   ],
   "source": [
    "import numpy as np\n",
    "\n",
    "def cross_entropy_error(y, t):\n",
    "    delta = 1e-7    # 마이너스 무한대가 발생하지 않게(log0은 마이너스 무한대)\n",
    "    return -np.sum(t * np.log(y+delta))\n",
    "\n",
    "t = [0, 0, 1, 0, 0, 0, 0, 0, 0, 0]    # 정답은 '2'\n",
    "\n",
    "# 예1 : '2'일 확률이 가장 높다고 추정함 (0.6)\n",
    "y = [0.1, 0.05, 0.6, 0.0, 0.05, 0.1, 0.0, 0.1, 0.0, 0.0]\n",
    "print(cross_entropy_error(np.array(y), np.array(t)))\n",
    "\n",
    "# 예1 : '7'일 확률이 가장 높다고 추정함 (0.6)\n",
    "y = [0.1, 0.05, 0.1, 0.0, 0.05, 0.1, 0.0, 0.6, 0.0, 0.0]\n",
    "print(cross_entropy_error(np.array(y), np.array(t)))"
   ]
  },
  {
   "cell_type": "code",
   "execution_count": 14,
   "metadata": {},
   "outputs": [],
   "source": [
    "# batch 용\n",
    "\n",
    "def cross_entropy_error(y, t):\n",
    "    if y.ndim == 1:\n",
    "        t = t.reshape(1, t.size)\n",
    "        y = y.reshape(1, y.size)\n",
    "        \n",
    "    batch_size = y.shape[0]\n",
    "    delta = 1e-7    # 마이너스 무한대가 발생하지 않게(log0은 마이너스 무한대)\n",
    "    return -np.sum(t * np.log(y+delta)) / batch_size\n",
    "\n"
   ]
  },
  {
   "cell_type": "markdown",
   "metadata": {},
   "source": [
    "# numerical differentiation"
   ]
  },
  {
   "cell_type": "code",
   "execution_count": null,
   "metadata": {},
   "outputs": [],
   "source": [
    "def numerical_diff(f, x):\n",
    "    h = 1e-4\n",
    "    return (f(x + h) - f(x - h)) / (2 * h)"
   ]
  },
  {
   "cell_type": "markdown",
   "metadata": {},
   "source": [
    "# numerical gradient"
   ]
  },
  {
   "cell_type": "code",
   "execution_count": null,
   "metadata": {},
   "outputs": [],
   "source": [
    "def numerical_gradient(f, x):\n",
    "    h = 1e-4\n",
    "    grad = np.zeros_like(x)\n",
    "    \n",
    "    for idx in range(x.size):\n",
    "        tmp_val = x[idx]\n",
    "\n",
    "        x[idx] = tmp_val + h\n",
    "        fxh1 = f(x)\n",
    "        \n",
    "        x[idx] = tmp_val - h\n",
    "        fxh2 = f(x)\n",
    "        \n",
    "        grad[idx] = (fxh1 - fxh2) / (2 * h)\n",
    "        x[idx] = tmp_val\n",
    "        \n",
    "    return grad\n",
    "        \n",
    "        \n",
    "        "
   ]
  },
  {
   "cell_type": "markdown",
   "metadata": {},
   "source": [
    "# gradient descent method"
   ]
  },
  {
   "cell_type": "code",
   "execution_count": null,
   "metadata": {},
   "outputs": [],
   "source": [
    "def gradient_descent(f, init_x, lr = 0.01, step_num = 100):\n",
    "    x = init_x\n",
    "    \n",
    "    for i in range(step_num):\n",
    "        grad = numerical_gradient(f, x)\n",
    "        x -= lr * grad\n",
    "    return x"
   ]
  },
  {
   "cell_type": "markdown",
   "metadata": {},
   "source": [
    "# 5장. Relu"
   ]
  },
  {
   "cell_type": "code",
   "execution_count": 1,
   "metadata": {},
   "outputs": [],
   "source": [
    "class Relu:\n",
    "    def __init__(self):\n",
    "        self.mask = None\n",
    "\n",
    "    def forward(self, x):\n",
    "        self.mask = (x <= 0)\n",
    "        out = x.copy()\n",
    "        out[self.mask] = 0\n",
    "\n",
    "        return out\n",
    "\n",
    "    def backward(self, dout):\n",
    "        dout[self.mask] = 0\n",
    "        dx = dout\n",
    "\n",
    "        return dx"
   ]
  },
  {
   "cell_type": "code",
   "execution_count": 8,
   "metadata": {},
   "outputs": [
    {
     "name": "stdout",
     "output_type": "stream",
     "text": [
      "[[ 1.  -0.5]\n",
      " [-2.   3. ]]\n",
      "[[False  True]\n",
      " [ True False]]\n",
      "[[ 1.  -0.5]\n",
      " [-2.   3. ]]\n",
      "[[1. 0.]\n",
      " [0. 3.]]\n"
     ]
    }
   ],
   "source": [
    "import numpy as np\n",
    "\n",
    "x = np.array([[1.0, -0.5], [-2.0, 3.0]])\n",
    "print(x)\n",
    "\n",
    "mask = (x <= 0)\n",
    "print(mask)\n",
    "out = x.copy()\n",
    "print(out)\n",
    "out[mask] = 0\n",
    "print(out)"
   ]
  },
  {
   "cell_type": "markdown",
   "metadata": {},
   "source": [
    "# 5장. Sigmoid"
   ]
  },
  {
   "cell_type": "code",
   "execution_count": 9,
   "metadata": {},
   "outputs": [],
   "source": [
    "class Sigmoid:\n",
    "    def __init__(self):\n",
    "        self.out = None\n",
    "\n",
    "    def forward(self, x):\n",
    "        out = sigmoid(x)\n",
    "        self.out = out\n",
    "        return out\n",
    "\n",
    "    def backward(self, dout):\n",
    "        dx = dout * (1.0 - self.out) * self.out\n",
    "\n",
    "        return dx"
   ]
  },
  {
   "cell_type": "code",
   "execution_count": 3,
   "metadata": {},
   "outputs": [
    {
     "name": "stdout",
     "output_type": "stream",
     "text": [
      "[[ 1.  -0.5]\n",
      " [-2.   3. ]]\n",
      "[[ 1.  -2. ]\n",
      " [-0.5  3. ]]\n"
     ]
    }
   ],
   "source": [
    "import numpy as np\n",
    "\n",
    "x = np.array([[1.0, -0.5], [-2.0, 3.0]])\n",
    "print(x)\n",
    "print(x.T)"
   ]
  },
  {
   "cell_type": "markdown",
   "metadata": {},
   "source": [
    "# 5장. softmax with loss"
   ]
  },
  {
   "cell_type": "code",
   "execution_count": null,
   "metadata": {},
   "outputs": [],
   "source": [
    "class SoftmaxWithLoss:\n",
    "    def __init__(self):\n",
    "        self.loss = None # 손실함수\n",
    "        self.y = None    # softmax의 출력\n",
    "        self.t = None    # 정답 레이블(원-핫 인코딩 형태)\n",
    "        \n",
    "    def forward(self, x, t):\n",
    "        self.t = t\n",
    "        self.y = softmax(x)\n",
    "        self.loss = cross_entropy_error(self.y, self.t)\n",
    "        \n",
    "        return self.loss\n",
    "\n",
    "    def backward(self, dout=1):\n",
    "        batch_size = self.t.shape[0]\n",
    "        if self.t.size == self.y.size: # 정답 레이블이 원-핫 인코딩 형태일 때\n",
    "            dx = (self.y - self.t) / batch_size\n",
    "        else:\n",
    "            dx = self.y.copy()\n",
    "            dx[np.arange(batch_size), self.t] -= 1\n",
    "            dx = dx / batch_size\n",
    "        \n",
    "        return dx"
   ]
  },
  {
   "cell_type": "markdown",
   "metadata": {},
   "source": [
    "# 6장. SGD"
   ]
  },
  {
   "cell_type": "code",
   "execution_count": 1,
   "metadata": {},
   "outputs": [],
   "source": [
    "class SGD:\n",
    "    def __init__(self, lr = 0.01):\n",
    "        self.lr = lr\n",
    "        \n",
    "    def update(self, params, grads):\n",
    "        for key in params.keys():\n",
    "            params[key] -= self.lr * grads[key]"
   ]
  },
  {
   "cell_type": "markdown",
   "metadata": {},
   "source": [
    "\n",
    "# 7장. Convolution / Pooling 계층 구현하기"
   ]
  },
  {
   "cell_type": "code",
   "execution_count": 4,
   "metadata": {},
   "outputs": [
    {
     "data": {
      "text/plain": [
       "(10, 1, 28, 28)"
      ]
     },
     "execution_count": 4,
     "metadata": {},
     "output_type": "execute_result"
    }
   ],
   "source": [
    "import numpy as np\n",
    "x = np.random.rand(10, 1, 28, 28)\n",
    "x.shape"
   ]
  },
  {
   "cell_type": "code",
   "execution_count": 7,
   "metadata": {},
   "outputs": [
    {
     "name": "stdout",
     "output_type": "stream",
     "text": [
      "(1, 28, 28)\n",
      "(1, 28, 28)\n"
     ]
    }
   ],
   "source": [
    "# 첫번째 데이터에 접근\n",
    "\n",
    "print(x[0].shape)\n",
    "print(x[1].shape)"
   ]
  },
  {
   "cell_type": "code",
   "execution_count": 8,
   "metadata": {},
   "outputs": [
    {
     "name": "stdout",
     "output_type": "stream",
     "text": [
      "[[0.54353695 0.13030893 0.02417657 0.48686067 0.16826257 0.83958999\n",
      "  0.25509598 0.7520964  0.23645525 0.17347679 0.41322507 0.43653024\n",
      "  0.06750827 0.79011532 0.7925863  0.98229363 0.50698569 0.60114948\n",
      "  0.93648243 0.69014654 0.88683663 0.05243858 0.60997879 0.4411566\n",
      "  0.24295623 0.27322101 0.90460819 0.59909398]\n",
      " [0.86191265 0.96661665 0.86547308 0.60897101 0.50133344 0.96831068\n",
      "  0.5352628  0.54863207 0.40867483 0.62021991 0.81840523 0.82465252\n",
      "  0.01407059 0.66464455 0.46914214 0.67637312 0.24061253 0.85746297\n",
      "  0.15970225 0.55129987 0.46822393 0.56961995 0.99615019 0.20516008\n",
      "  0.06646618 0.54024268 0.66298263 0.76381249]\n",
      " [0.97614002 0.72495471 0.87696946 0.3700411  0.93896818 0.741998\n",
      "  0.28790611 0.63325967 0.02889955 0.65768748 0.62990137 0.25814957\n",
      "  0.97765707 0.50108083 0.69254495 0.36098893 0.68268782 0.50306135\n",
      "  0.88731011 0.18851732 0.72566238 0.10749937 0.3219408  0.7330195\n",
      "  0.41784611 0.00979457 0.73085735 0.40013737]\n",
      " [0.8223654  0.97120548 0.99303596 0.28233759 0.01332687 0.17350863\n",
      "  0.2414136  0.32193184 0.92311399 0.7758934  0.84389294 0.93236404\n",
      "  0.98996878 0.21288449 0.00120684 0.94170953 0.77902275 0.67205588\n",
      "  0.28560834 0.82101315 0.85857087 0.3563353  0.45230977 0.71551892\n",
      "  0.03755793 0.80275145 0.06973543 0.58937889]\n",
      " [0.33600979 0.71249083 0.67229735 0.7842798  0.43766376 0.44470215\n",
      "  0.35173289 0.94302454 0.12074888 0.1769989  0.2798427  0.80251799\n",
      "  0.84480538 0.41476009 0.10377393 0.09408437 0.89273828 0.38817556\n",
      "  0.01992775 0.14599586 0.91443118 0.40989265 0.5982383  0.55949287\n",
      "  0.35897981 0.25290548 0.76279759 0.20140281]\n",
      " [0.24103195 0.25819135 0.03268217 0.80249132 0.82106529 0.01488748\n",
      "  0.45223922 0.07550173 0.32924449 0.40292226 0.25465106 0.55777267\n",
      "  0.46748425 0.63387703 0.17549848 0.88523271 0.60655067 0.76057999\n",
      "  0.41312907 0.74382829 0.28979977 0.05483799 0.90781836 0.13070135\n",
      "  0.23519363 0.46811483 0.499876   0.12402011]\n",
      " [0.8145129  0.56964959 0.34833369 0.31080205 0.43824153 0.26302761\n",
      "  0.42170771 0.37132957 0.23872626 0.87561539 0.28454462 0.08865195\n",
      "  0.55067394 0.07635584 0.34312969 0.95995949 0.98411209 0.41796842\n",
      "  0.31390629 0.91987164 0.49676967 0.84440362 0.27249092 0.48118825\n",
      "  0.30804513 0.5478605  0.59024687 0.93215143]\n",
      " [0.94461087 0.15761719 0.08252293 0.97762178 0.50982776 0.79809282\n",
      "  0.73449406 0.14126602 0.0035201  0.12108764 0.98961708 0.58864718\n",
      "  0.20211783 0.13961806 0.91227815 0.63816632 0.28249662 0.80278749\n",
      "  0.45891208 0.37713008 0.94349173 0.44507187 0.18293272 0.23365233\n",
      "  0.79975004 0.28058105 0.08886578 0.3388117 ]\n",
      " [0.62317336 0.66178862 0.02901997 0.34310945 0.46645053 0.54242012\n",
      "  0.83768546 0.81403238 0.97051679 0.42448148 0.93253763 0.96244196\n",
      "  0.42520584 0.71360239 0.2238262  0.85609205 0.00512829 0.15897175\n",
      "  0.15638671 0.68595725 0.25477948 0.78565266 0.2373628  0.07899766\n",
      "  0.42662821 0.20603368 0.62686506 0.23951205]\n",
      " [0.62914237 0.2886839  0.04415273 0.46319349 0.6009618  0.67612928\n",
      "  0.92489707 0.50217863 0.76968415 0.84577027 0.2460966  0.64744338\n",
      "  0.8748098  0.62965905 0.59498677 0.5469598  0.51597046 0.51801482\n",
      "  0.72558138 0.0861242  0.37761986 0.22728126 0.70469027 0.09654254\n",
      "  0.47986589 0.52982144 0.07483939 0.12081336]\n",
      " [0.39411309 0.6262537  0.32137584 0.63706897 0.4288323  0.52841646\n",
      "  0.93920012 0.90710831 0.73302068 0.80470731 0.20862198 0.06745365\n",
      "  0.82280362 0.98549429 0.53601351 0.24410183 0.18712793 0.61881756\n",
      "  0.09618748 0.3648369  0.51065124 0.11054185 0.69998538 0.79495816\n",
      "  0.3976509  0.98461701 0.5576601  0.02839719]\n",
      " [0.17729106 0.9788926  0.32311285 0.72209284 0.38421008 0.41727118\n",
      "  0.6267211  0.2896525  0.29845012 0.9923556  0.540512   0.21250478\n",
      "  0.75048108 0.53000565 0.88098047 0.72976671 0.70498352 0.19640605\n",
      "  0.53348734 0.85612534 0.57328587 0.03798328 0.28558598 0.71287553\n",
      "  0.61986001 0.56026037 0.16231638 0.67102258]\n",
      " [0.01378945 0.85039275 0.15889958 0.97797584 0.49170474 0.92870717\n",
      "  0.09496685 0.06154777 0.56452014 0.6714634  0.79624984 0.04515231\n",
      "  0.60069542 0.50659496 0.64922975 0.09452109 0.2009335  0.41385143\n",
      "  0.10555679 0.2668723  0.92447399 0.36815734 0.09406734 0.6444058\n",
      "  0.97633012 0.6805484  0.52119205 0.14079801]\n",
      " [0.90630631 0.74971489 0.51430689 0.75682085 0.02793209 0.82418613\n",
      "  0.62248681 0.30482131 0.65829182 0.2965423  0.27206172 0.83551113\n",
      "  0.28384442 0.94833235 0.68618866 0.80278539 0.84832415 0.82841483\n",
      "  0.60575716 0.02436548 0.01047365 0.26109955 0.67622619 0.92312914\n",
      "  0.06428838 0.42855158 0.86954037 0.07592199]\n",
      " [0.97296102 0.88750564 0.2222501  0.4459689  0.74275495 0.04893465\n",
      "  0.97084889 0.51412992 0.77389177 0.21131633 0.25607255 0.16369883\n",
      "  0.09735984 0.92116958 0.49597359 0.32062073 0.19957257 0.86726019\n",
      "  0.93799271 0.27922693 0.29733605 0.61268373 0.31447584 0.6834063\n",
      "  0.68538181 0.61557518 0.1653688  0.23042716]\n",
      " [0.64120432 0.58297152 0.41640385 0.34278139 0.3446563  0.09872013\n",
      "  0.84840944 0.77062545 0.9746972  0.28319046 0.53107545 0.4964345\n",
      "  0.4830926  0.96851171 0.41427188 0.26108205 0.99399131 0.55932602\n",
      "  0.42558144 0.77360728 0.89537242 0.09883778 0.66003267 0.78040189\n",
      "  0.68899146 0.06636341 0.79343207 0.29621206]\n",
      " [0.32359298 0.43902086 0.01286773 0.34781533 0.72723222 0.5258326\n",
      "  0.50254234 0.99062348 0.62277859 0.86325522 0.71446026 0.65007204\n",
      "  0.03198533 0.66983601 0.78610047 0.21252708 0.78980468 0.37736332\n",
      "  0.79360986 0.05830787 0.09832515 0.93227427 0.52179806 0.16581733\n",
      "  0.55954026 0.96945074 0.9583136  0.97703349]\n",
      " [0.75690883 0.20631688 0.03437443 0.19702382 0.7212223  0.48020745\n",
      "  0.02551834 0.14804229 0.28537533 0.14989326 0.49226723 0.94158368\n",
      "  0.82903607 0.77080207 0.03331501 0.39236207 0.62475764 0.44004344\n",
      "  0.21200907 0.26053201 0.97960132 0.74802366 0.96965724 0.2233419\n",
      "  0.72845698 0.86713591 0.28945594 0.89069596]\n",
      " [0.56376768 0.59600932 0.10036982 0.36948236 0.61596162 0.97965455\n",
      "  0.14068089 0.67318599 0.3443506  0.32900582 0.24029016 0.29652464\n",
      "  0.31125876 0.29628407 0.56110342 0.58753143 0.6837693  0.56505624\n",
      "  0.00917338 0.68874488 0.89987398 0.71772726 0.41654975 0.31799587\n",
      "  0.61510996 0.27193342 0.51117208 0.57588813]\n",
      " [0.65351952 0.69788814 0.14420091 0.5637197  0.6366075  0.98533797\n",
      "  0.74235795 0.78647456 0.20412399 0.8331205  0.80856553 0.13630295\n",
      "  0.47476741 0.50025579 0.59340071 0.85921644 0.2538322  0.13881776\n",
      "  0.85021168 0.57171856 0.46326975 0.97879663 0.13538761 0.17435308\n",
      "  0.20386692 0.37663079 0.46871591 0.74429485]\n",
      " [0.59925646 0.41518229 0.1443162  0.10547806 0.27232539 0.99153491\n",
      "  0.21025378 0.70337854 0.29741732 0.51815245 0.28709758 0.65612785\n",
      "  0.93448846 0.50433548 0.6279559  0.03634568 0.59039092 0.70173439\n",
      "  0.77297653 0.05152494 0.19798361 0.13366353 0.38683084 0.35488974\n",
      "  0.30834283 0.4859492  0.64894212 0.09828164]\n",
      " [0.0527632  0.16108681 0.2890354  0.54333523 0.17275475 0.74145124\n",
      "  0.87380431 0.16673792 0.70492579 0.25393304 0.95251522 0.91572313\n",
      "  0.4420943  0.63171937 0.15893076 0.20845493 0.82336864 0.23880219\n",
      "  0.13537663 0.23748823 0.36445599 0.40984448 0.6704741  0.42113594\n",
      "  0.40854901 0.80038662 0.24280171 0.80812578]\n",
      " [0.78191272 0.53156916 0.45738365 0.60317653 0.34382357 0.78816017\n",
      "  0.44389007 0.72470023 0.29332069 0.58715913 0.4924708  0.67608035\n",
      "  0.93711085 0.04776496 0.32942404 0.98228431 0.20788698 0.01072182\n",
      "  0.66346881 0.21531667 0.71627265 0.82297073 0.45921106 0.62300016\n",
      "  0.35289456 0.27095386 0.08247149 0.78760928]\n",
      " [0.38623549 0.1672893  0.34371051 0.24617425 0.63370355 0.04104864\n",
      "  0.56556683 0.63433503 0.0491211  0.28543156 0.71971586 0.98980499\n",
      "  0.12269842 0.70049868 0.44499354 0.7714907  0.08586737 0.25711358\n",
      "  0.29693663 0.66736067 0.90206406 0.58680717 0.19214994 0.52692581\n",
      "  0.21772942 0.80481211 0.58111296 0.09528958]\n",
      " [0.83865685 0.43270132 0.04462494 0.92922446 0.59187786 0.20197083\n",
      "  0.75332741 0.96950095 0.65800977 0.42882106 0.66789033 0.84296006\n",
      "  0.36938209 0.77935129 0.5058187  0.57292543 0.77862705 0.01052494\n",
      "  0.27353121 0.72336751 0.44921185 0.48325409 0.85765589 0.78835432\n",
      "  0.58378545 0.04028873 0.63651002 0.02470214]\n",
      " [0.48979372 0.79169291 0.02030145 0.3116004  0.14298697 0.6924053\n",
      "  0.53991391 0.64975185 0.75656328 0.39831756 0.46101161 0.93986034\n",
      "  0.71793833 0.53032843 0.77997565 0.03088133 0.50971966 0.24380133\n",
      "  0.10920369 0.53614727 0.45735739 0.18541154 0.8429259  0.1956025\n",
      "  0.38306027 0.55938782 0.11787451 0.16828705]\n",
      " [0.06742881 0.00184897 0.10363459 0.80588293 0.36032845 0.38338236\n",
      "  0.27999934 0.57561628 0.55398673 0.08088344 0.45999746 0.14270661\n",
      "  0.42815635 0.56766978 0.39805762 0.83685809 0.88128832 0.59174013\n",
      "  0.29968197 0.29593965 0.06392673 0.57758256 0.13468978 0.79859453\n",
      "  0.02555105 0.92289765 0.29742069 0.01446476]\n",
      " [0.07814827 0.81541778 0.8365649  0.77550911 0.9665158  0.88492762\n",
      "  0.72862973 0.37036293 0.78705126 0.47716076 0.27214514 0.04817172\n",
      "  0.81837518 0.22143056 0.82620293 0.71813138 0.32341031 0.84096393\n",
      "  0.94486372 0.06048963 0.24027106 0.02457482 0.4784033  0.52728662\n",
      "  0.88782322 0.84318564 0.49364636 0.6100119 ]]\n"
     ]
    }
   ],
   "source": [
    "# 첫채널의 공간데이터에 접근\n",
    "\n",
    "print(x[0,0])"
   ]
  },
  {
   "cell_type": "code",
   "execution_count": null,
   "metadata": {},
   "outputs": [],
   "source": [
    "# im2col(image to column) 함수 확인\n",
    "\n",
    "def im2col(input_data, filter_h, filter_w, stride=1, pad=0):\n",
    "    \"\"\"다수의 이미지를 입력받아 2차원 배열로 변환한다(평탄화).\n",
    "    \n",
    "    Parameters\n",
    "    ----------\n",
    "    input_data : 4차원 배열 형태의 입력 데이터(이미지 수, 채널 수, 높이, 너비)\n",
    "    filter_h : 필터의 높이\n",
    "    filter_w : 필터의 너비\n",
    "    stride : 스트라이드\n",
    "    pad : 패딩\n",
    "    \n",
    "    Returns\n",
    "    -------\n",
    "    col : 2차원 배열\n",
    "    \"\"\"\n",
    "    N, C, H, W = input_data.shape\n",
    "    out_h = (H + 2*pad - filter_h)//stride + 1\n",
    "    out_w = (W + 2*pad - filter_w)//stride + 1\n",
    "\n",
    "    img = np.pad(input_data, [(0,0), (0,0), (pad, pad), (pad, pad)], 'constant')\n",
    "    col = np.zeros((N, C, filter_h, filter_w, out_h, out_w))\n",
    "\n",
    "    for y in range(filter_h):\n",
    "        y_max = y + stride*out_h\n",
    "        for x in range(filter_w):\n",
    "            x_max = x + stride*out_w\n",
    "            col[:, :, y, x, :, :] = img[:, :, y:y_max:stride, x:x_max:stride]\n",
    "\n",
    "    col = col.transpose(0, 4, 5, 1, 2, 3).reshape(N*out_h*out_w, -1)\n",
    "    return col"
   ]
  },
  {
   "cell_type": "code",
   "execution_count": 25,
   "metadata": {},
   "outputs": [
    {
     "name": "stdout",
     "output_type": "stream",
     "text": [
      "[[[[1 2]\n",
      "   [3 4]]\n",
      "\n",
      "  [[5 6]\n",
      "   [7 8]]]\n",
      "\n",
      "\n",
      " [[[1 2]\n",
      "   [3 4]]\n",
      "\n",
      "  [[5 6]\n",
      "   [7 8]]]]\n",
      "[[[[0 0 0 0]\n",
      "   [0 1 2 0]\n",
      "   [0 3 4 0]\n",
      "   [0 0 0 0]]\n",
      "\n",
      "  [[0 0 0 0]\n",
      "   [0 5 6 0]\n",
      "   [0 7 8 0]\n",
      "   [0 0 0 0]]]\n",
      "\n",
      "\n",
      " [[[0 0 0 0]\n",
      "   [0 1 2 0]\n",
      "   [0 3 4 0]\n",
      "   [0 0 0 0]]\n",
      "\n",
      "  [[0 0 0 0]\n",
      "   [0 5 6 0]\n",
      "   [0 7 8 0]\n",
      "   [0 0 0 0]]]]\n"
     ]
    }
   ],
   "source": [
    "# test \n",
    "\n",
    "a = np.array([[[[1, 2], [3, 4]], [[5,6], [7,8]]], [[[1, 2], [3, 4]], [[5,6], [7,8]]]])\n",
    "print(a)\n",
    "\n",
    "pad_img = np.pad(a, [(0,0), (0,0), (1, 1), (1, 1)], \"constant\")\n",
    "print(pad_img)"
   ]
  },
  {
   "cell_type": "code",
   "execution_count": 26,
   "metadata": {},
   "outputs": [],
   "source": [
    "class Pooling:\n",
    "    def __init__(self, pool_h, pool_w, stride=1, pad=0):\n",
    "        self.pool_h = pool_h\n",
    "        self.pool_w = pool_w\n",
    "        self.stride = stride\n",
    "        self.pad = pad\n",
    "        \n",
    "        self.x = None\n",
    "        self.arg_max = None\n",
    "\n",
    "    def forward(self, x):\n",
    "        N, C, H, W = x.shape\n",
    "        out_h = int(1 + (H - self.pool_h) / self.stride)\n",
    "        out_w = int(1 + (W - self.pool_w) / self.stride)\n",
    "\n",
    "        col = im2col(x, self.pool_h, self.pool_w, self.stride, self.pad)\n",
    "        col = col.reshape(-1, self.pool_h*self.pool_w)\n",
    "\n",
    "        arg_max = np.argmax(col, axis=1)\n",
    "        out = np.max(col, axis=1)\n",
    "        out = out.reshape(N, out_h, out_w, C).transpose(0, 3, 1, 2)\n",
    "\n",
    "        self.x = x\n",
    "        self.arg_max = arg_max\n",
    "\n",
    "        return out\n",
    "\n",
    "    def backward(self, dout):\n",
    "        dout = dout.transpose(0, 2, 3, 1)\n",
    "        \n",
    "        pool_size = self.pool_h * self.pool_w\n",
    "        dmax = np.zeros((dout.size, pool_size))\n",
    "        dmax[np.arange(self.arg_max.size), self.arg_max.flatten()] = dout.flatten()\n",
    "        dmax = dmax.reshape(dout.shape + (pool_size,)) \n",
    "        \n",
    "        dcol = dmax.reshape(dmax.shape[0] * dmax.shape[1] * dmax.shape[2], -1)\n",
    "        dx = col2im(dcol, self.x.shape, self.pool_h, self.pool_w, self.stride, self.pad)\n",
    "        \n",
    "        return dx"
   ]
  },
  {
   "cell_type": "code",
   "execution_count": 30,
   "metadata": {},
   "outputs": [
    {
     "name": "stdout",
     "output_type": "stream",
     "text": [
      "[784, 100, 50, 10]\n"
     ]
    }
   ],
   "source": [
    "all_size_list = [784] + [100, 50] + [10]\n",
    "print(all_size_list)"
   ]
  },
  {
   "cell_type": "code",
   "execution_count": 4,
   "metadata": {},
   "outputs": [
    {
     "name": "stdout",
     "output_type": "stream",
     "text": [
      "\n",
      "C:\\Users\\heaven\\Anaconda3\\envs\\tensor\\python35.zip\n",
      "C:\\Users\\heaven\\Anaconda3\\envs\\tensor\\DLLs\n",
      "C:\\Users\\heaven\\Anaconda3\\envs\\tensor\\lib\n",
      "C:\\Users\\heaven\\Anaconda3\\envs\\tensor\n",
      "C:\\Users\\heaven\\Anaconda3\\envs\\tensor\\lib\\site-packages\n",
      "C:\\Users\\heaven\\Anaconda3\\envs\\tensor\\lib\\site-packages\\win32\n",
      "C:\\Users\\heaven\\Anaconda3\\envs\\tensor\\lib\\site-packages\\win32\\lib\n",
      "C:\\Users\\heaven\\Anaconda3\\envs\\tensor\\lib\\site-packages\\Pythonwin\n",
      "C:\\Users\\heaven\\Anaconda3\\envs\\tensor\\lib\\site-packages\\IPython\\extensions\n",
      "C:\\Users\\heaven\\.ipython\n",
      "..\n"
     ]
    }
   ],
   "source": [
    "import sys, os\n",
    "kk = sys.path\n",
    "for i in kk:\n",
    "    print(i)\n",
    "sys.path.append(os.pardir)"
   ]
  },
  {
   "cell_type": "code",
   "execution_count": 6,
   "metadata": {},
   "outputs": [
    {
     "name": "stdout",
     "output_type": "stream",
     "text": [
      "28\n"
     ]
    }
   ],
   "source": [
    "input_dim = (1, 28, 28)\n",
    "input_size = input_dim[1]\n",
    "print(input_size)"
   ]
  },
  {
   "cell_type": "code",
   "execution_count": null,
   "metadata": {},
   "outputs": [],
   "source": []
  },
  {
   "cell_type": "code",
   "execution_count": null,
   "metadata": {},
   "outputs": [],
   "source": []
  },
  {
   "cell_type": "code",
   "execution_count": null,
   "metadata": {},
   "outputs": [],
   "source": []
  }
 ],
 "metadata": {
  "kernelspec": {
   "display_name": "Python 3",
   "language": "python",
   "name": "python3"
  },
  "language_info": {
   "codemirror_mode": {
    "name": "ipython",
    "version": 3
   },
   "file_extension": ".py",
   "mimetype": "text/x-python",
   "name": "python",
   "nbconvert_exporter": "python",
   "pygments_lexer": "ipython3",
   "version": "3.5.5"
  }
 },
 "nbformat": 4,
 "nbformat_minor": 2
}
